{
 "cells": [
  {
   "cell_type": "code",
   "execution_count": 1,
   "metadata": {},
   "outputs": [],
   "source": [
    "import pandas as pd\n",
    "import os\n",
    "import math\n",
    "%matplotlib inline\n",
    "\n",
    "pot_do_receptov = os.path.join('obdelani-podatki', 'recepti.csv')\n",
    "pot_do_sestavin = os.path.join('obdelani-podatki', 'sestavine.csv')\n",
    "\n",
    "recepti = pd.read_csv(pot_do_receptov)\n",
    "sestavine = pd.read_csv(pot_do_sestavin)"
   ]
  },
  {
   "cell_type": "markdown",
   "metadata": {},
   "source": [
    "Poglejmo si podatke, ki jih imamo:\n",
    "\n",
    "<span style=\"color:#1B2D5F\">*Opomba: Za vegetarijanske recepte uporabljamo oznako Vegetarian, za ne-vegetarijanske pa 0.*</span>"
   ]
  },
  {
   "cell_type": "code",
   "execution_count": 2,
   "metadata": {},
   "outputs": [
    {
     "data": {
      "text/html": [
       "<div>\n",
       "<style scoped>\n",
       "    .dataframe tbody tr th:only-of-type {\n",
       "        vertical-align: middle;\n",
       "    }\n",
       "\n",
       "    .dataframe tbody tr th {\n",
       "        vertical-align: top;\n",
       "    }\n",
       "\n",
       "    .dataframe thead th {\n",
       "        text-align: right;\n",
       "    }\n",
       "</style>\n",
       "<table border=\"1\" class=\"dataframe\">\n",
       "  <thead>\n",
       "    <tr style=\"text-align: right;\">\n",
       "      <th></th>\n",
       "      <th>naslov</th>\n",
       "      <th>avtor</th>\n",
       "      <th>cas_priprave</th>\n",
       "      <th>cas_kuhanja</th>\n",
       "      <th>stevilo_ocenjevalcev</th>\n",
       "      <th>ocena</th>\n",
       "      <th>dieta</th>\n",
       "      <th>zvrst</th>\n",
       "    </tr>\n",
       "  </thead>\n",
       "  <tbody>\n",
       "    <tr>\n",
       "      <th>0</th>\n",
       "      <td>Bacon chop with hispi cabbage, lovage and a p...</td>\n",
       "      <td>Angela Hartnett</td>\n",
       "      <td>0-30</td>\n",
       "      <td>30-60</td>\n",
       "      <td>0</td>\n",
       "      <td>0.00</td>\n",
       "      <td>0</td>\n",
       "      <td>Main course</td>\n",
       "    </tr>\n",
       "    <tr>\n",
       "      <th>1</th>\n",
       "      <td>Baked pasta shells stuffed with cheese, tomat...</td>\n",
       "      <td>Matt Tebbutt</td>\n",
       "      <td>0-30</td>\n",
       "      <td>30-60</td>\n",
       "      <td>1</td>\n",
       "      <td>5.00</td>\n",
       "      <td>Vegetarian</td>\n",
       "      <td>Main course</td>\n",
       "    </tr>\n",
       "    <tr>\n",
       "      <th>2</th>\n",
       "      <td>Pan-fried red mullet, baked pink fir potato, ...</td>\n",
       "      <td>Bryn Williams</td>\n",
       "      <td>0-30</td>\n",
       "      <td>30-60</td>\n",
       "      <td>0</td>\n",
       "      <td>0.00</td>\n",
       "      <td>0</td>\n",
       "      <td>Main course</td>\n",
       "    </tr>\n",
       "    <tr>\n",
       "      <th>3</th>\n",
       "      <td>Rum and orange doughnuts with chocolate sauce...</td>\n",
       "      <td>Matt Tebbutt</td>\n",
       "      <td>0-30</td>\n",
       "      <td>10-30</td>\n",
       "      <td>0</td>\n",
       "      <td>0.00</td>\n",
       "      <td>0</td>\n",
       "      <td>Desserts</td>\n",
       "    </tr>\n",
       "    <tr>\n",
       "      <th>4</th>\n",
       "      <td>Slow-cooked ox cheek with kale and mashed potato</td>\n",
       "      <td>Freddy Bird</td>\n",
       "      <td>30-60</td>\n",
       "      <td>00-120</td>\n",
       "      <td>5</td>\n",
       "      <td>5.00</td>\n",
       "      <td>0</td>\n",
       "      <td>Recipe</td>\n",
       "    </tr>\n",
       "    <tr>\n",
       "      <th>...</th>\n",
       "      <td>...</td>\n",
       "      <td>...</td>\n",
       "      <td>...</td>\n",
       "      <td>...</td>\n",
       "      <td>...</td>\n",
       "      <td>...</td>\n",
       "      <td>...</td>\n",
       "      <td>...</td>\n",
       "    </tr>\n",
       "    <tr>\n",
       "      <th>9600</th>\n",
       "      <td>Îles flottantes</td>\n",
       "      <td>Rachel Khoo</td>\n",
       "      <td>00-120</td>\n",
       "      <td>10-30</td>\n",
       "      <td>1</td>\n",
       "      <td>4.00</td>\n",
       "      <td>Vegetarian</td>\n",
       "      <td>Desserts</td>\n",
       "    </tr>\n",
       "    <tr>\n",
       "      <th>9601</th>\n",
       "      <td>‘Chocolate orange’ iced biscuits</td>\n",
       "      <td>Warwick Davis</td>\n",
       "      <td>0-30</td>\n",
       "      <td>10-30</td>\n",
       "      <td>1</td>\n",
       "      <td>5.00</td>\n",
       "      <td>Vegetarian</td>\n",
       "      <td>Cakes and baking</td>\n",
       "    </tr>\n",
       "    <tr>\n",
       "      <th>9602</th>\n",
       "      <td>‘Dirty’ veggie starter platter</td>\n",
       "      <td>Joe Florek</td>\n",
       "      <td>0-30</td>\n",
       "      <td>10-30</td>\n",
       "      <td>1</td>\n",
       "      <td>5.00</td>\n",
       "      <td>Vegetarian</td>\n",
       "      <td>Starters and nibbles</td>\n",
       "    </tr>\n",
       "    <tr>\n",
       "      <th>9603</th>\n",
       "      <td>‘I can’t believe you made that’ cake</td>\n",
       "      <td>Lorraine Pascale</td>\n",
       "      <td>30-60</td>\n",
       "      <td>30-60</td>\n",
       "      <td>4</td>\n",
       "      <td>4.75</td>\n",
       "      <td>Vegetarian</td>\n",
       "      <td>Cakes and baking</td>\n",
       "    </tr>\n",
       "    <tr>\n",
       "      <th>9604</th>\n",
       "      <td>‘Nduja and mozzarella pizza</td>\n",
       "      <td>James Martin</td>\n",
       "      <td>00-120</td>\n",
       "      <td>10-30</td>\n",
       "      <td>2</td>\n",
       "      <td>5.00</td>\n",
       "      <td>0</td>\n",
       "      <td>Main course</td>\n",
       "    </tr>\n",
       "  </tbody>\n",
       "</table>\n",
       "<p>9605 rows × 8 columns</p>\n",
       "</div>"
      ],
      "text/plain": [
       "                                                 naslov             avtor  \\\n",
       "0      Bacon chop with hispi cabbage, lovage and a p...   Angela Hartnett   \n",
       "1      Baked pasta shells stuffed with cheese, tomat...      Matt Tebbutt   \n",
       "2      Pan-fried red mullet, baked pink fir potato, ...     Bryn Williams   \n",
       "3      Rum and orange doughnuts with chocolate sauce...      Matt Tebbutt   \n",
       "4      Slow-cooked ox cheek with kale and mashed potato      Freddy Bird    \n",
       "...                                                 ...               ...   \n",
       "9600                                    Îles flottantes       Rachel Khoo   \n",
       "9601                   ‘Chocolate orange’ iced biscuits     Warwick Davis   \n",
       "9602                     ‘Dirty’ veggie starter platter        Joe Florek   \n",
       "9603              ‘I can’t believe you made that’ cake   Lorraine Pascale   \n",
       "9604                        ‘Nduja and mozzarella pizza      James Martin   \n",
       "\n",
       "     cas_priprave cas_kuhanja  stevilo_ocenjevalcev  ocena       dieta  \\\n",
       "0            0-30       30-60                     0   0.00           0   \n",
       "1            0-30       30-60                     1   5.00  Vegetarian   \n",
       "2            0-30       30-60                     0   0.00           0   \n",
       "3            0-30       10-30                     0   0.00           0   \n",
       "4           30-60      00-120                     5   5.00           0   \n",
       "...           ...         ...                   ...    ...         ...   \n",
       "9600       00-120       10-30                     1   4.00  Vegetarian   \n",
       "9601         0-30       10-30                     1   5.00  Vegetarian   \n",
       "9602         0-30       10-30                     1   5.00  Vegetarian   \n",
       "9603        30-60       30-60                     4   4.75  Vegetarian   \n",
       "9604       00-120       10-30                     2   5.00           0   \n",
       "\n",
       "                     zvrst  \n",
       "0              Main course  \n",
       "1              Main course  \n",
       "2              Main course  \n",
       "3                 Desserts  \n",
       "4                   Recipe  \n",
       "...                    ...  \n",
       "9600              Desserts  \n",
       "9601      Cakes and baking  \n",
       "9602  Starters and nibbles  \n",
       "9603      Cakes and baking  \n",
       "9604           Main course  \n",
       "\n",
       "[9605 rows x 8 columns]"
      ]
     },
     "execution_count": 2,
     "metadata": {},
     "output_type": "execute_result"
    }
   ],
   "source": [
    "recepti"
   ]
  },
  {
   "cell_type": "code",
   "execution_count": 3,
   "metadata": {},
   "outputs": [
    {
     "data": {
      "text/html": [
       "<div>\n",
       "<style scoped>\n",
       "    .dataframe tbody tr th:only-of-type {\n",
       "        vertical-align: middle;\n",
       "    }\n",
       "\n",
       "    .dataframe tbody tr th {\n",
       "        vertical-align: top;\n",
       "    }\n",
       "\n",
       "    .dataframe thead th {\n",
       "        text-align: right;\n",
       "    }\n",
       "</style>\n",
       "<table border=\"1\" class=\"dataframe\">\n",
       "  <thead>\n",
       "    <tr style=\"text-align: right;\">\n",
       "      <th></th>\n",
       "      <th>recept</th>\n",
       "      <th>sestavina</th>\n",
       "    </tr>\n",
       "  </thead>\n",
       "  <tbody>\n",
       "    <tr>\n",
       "      <th>0</th>\n",
       "      <td>Bacon chop with hispi cabbage, lovage and a p...</td>\n",
       "      <td>bacon</td>\n",
       "    </tr>\n",
       "    <tr>\n",
       "      <th>1</th>\n",
       "      <td>Bacon chop with hispi cabbage, lovage and a p...</td>\n",
       "      <td>butter</td>\n",
       "    </tr>\n",
       "    <tr>\n",
       "      <th>2</th>\n",
       "      <td>Bacon chop with hispi cabbage, lovage and a p...</td>\n",
       "      <td>plain flour</td>\n",
       "    </tr>\n",
       "    <tr>\n",
       "      <th>3</th>\n",
       "      <td>Bacon chop with hispi cabbage, lovage and a p...</td>\n",
       "      <td>onion</td>\n",
       "    </tr>\n",
       "    <tr>\n",
       "      <th>4</th>\n",
       "      <td>Bacon chop with hispi cabbage, lovage and a p...</td>\n",
       "      <td>apple</td>\n",
       "    </tr>\n",
       "    <tr>\n",
       "      <th>...</th>\n",
       "      <td>...</td>\n",
       "      <td>...</td>\n",
       "    </tr>\n",
       "    <tr>\n",
       "      <th>225352</th>\n",
       "      <td>‘Nduja and mozzarella pizza</td>\n",
       "      <td>yeast</td>\n",
       "    </tr>\n",
       "    <tr>\n",
       "      <th>225353</th>\n",
       "      <td>‘Nduja and mozzarella pizza</td>\n",
       "      <td>semolina</td>\n",
       "    </tr>\n",
       "    <tr>\n",
       "      <th>225354</th>\n",
       "      <td>‘Nduja and mozzarella pizza</td>\n",
       "      <td>vegetable oil</td>\n",
       "    </tr>\n",
       "    <tr>\n",
       "      <th>225355</th>\n",
       "      <td>‘Nduja and mozzarella pizza</td>\n",
       "      <td>tomatoe</td>\n",
       "    </tr>\n",
       "    <tr>\n",
       "      <th>225356</th>\n",
       "      <td>‘Nduja and mozzarella pizza</td>\n",
       "      <td>caster sugar</td>\n",
       "    </tr>\n",
       "  </tbody>\n",
       "</table>\n",
       "<p>225357 rows × 2 columns</p>\n",
       "</div>"
      ],
      "text/plain": [
       "                                                   recept      sestavina\n",
       "0        Bacon chop with hispi cabbage, lovage and a p...          bacon\n",
       "1        Bacon chop with hispi cabbage, lovage and a p...         butter\n",
       "2        Bacon chop with hispi cabbage, lovage and a p...    plain flour\n",
       "3        Bacon chop with hispi cabbage, lovage and a p...          onion\n",
       "4        Bacon chop with hispi cabbage, lovage and a p...          apple\n",
       "...                                                   ...            ...\n",
       "225352                        ‘Nduja and mozzarella pizza          yeast\n",
       "225353                        ‘Nduja and mozzarella pizza       semolina\n",
       "225354                        ‘Nduja and mozzarella pizza  vegetable oil\n",
       "225355                        ‘Nduja and mozzarella pizza        tomatoe\n",
       "225356                        ‘Nduja and mozzarella pizza   caster sugar\n",
       "\n",
       "[225357 rows x 2 columns]"
      ]
     },
     "execution_count": 3,
     "metadata": {},
     "output_type": "execute_result"
    }
   ],
   "source": [
    "sestavine"
   ]
  },
  {
   "cell_type": "markdown",
   "metadata": {},
   "source": [
    "# Hipoteze"
   ]
  },
  {
   "cell_type": "markdown",
   "metadata": {},
   "source": [
    "### 1.  Vegetarijanski recepti so slabše ocenjeni"
   ]
  },
  {
   "cell_type": "markdown",
   "metadata": {},
   "source": [
    "Vidimo lahko, da je okoli 45% receptov vegetarijanskih,"
   ]
  },
  {
   "cell_type": "code",
   "execution_count": 4,
   "metadata": {},
   "outputs": [
    {
     "data": {
      "text/plain": [
       "dieta\n",
       "0             5529\n",
       "Vegetarian    4076\n",
       "dtype: int64"
      ]
     },
     "execution_count": 4,
     "metadata": {},
     "output_type": "execute_result"
    }
   ],
   "source": [
    "recepti.groupby('dieta').size()"
   ]
  },
  {
   "cell_type": "markdown",
   "metadata": {},
   "source": [
    "ampak je kjub temu vegetarijanske recepte ocenilo približno 10% več ocenjevalcev kot tiste, ki niso imeli vegetarijanske oznake:"
   ]
  },
  {
   "cell_type": "markdown",
   "metadata": {},
   "source": [
    "- *Število ocenjevalcev vegetarijanskih receptov:*"
   ]
  },
  {
   "cell_type": "code",
   "execution_count": 5,
   "metadata": {},
   "outputs": [
    {
     "data": {
      "text/plain": [
       "25398"
      ]
     },
     "execution_count": 5,
     "metadata": {},
     "output_type": "execute_result"
    }
   ],
   "source": [
    "ocenjevalci_vege = recepti[recepti.dieta == \"Vegetarian\"].stevilo_ocenjevalcev.sum()\n",
    "ocenjevalci_vege"
   ]
  },
  {
   "cell_type": "markdown",
   "metadata": {},
   "source": [
    "- *Število ocenjevalcev receptov, ki niso imeli vegetarijanske oznake:*"
   ]
  },
  {
   "cell_type": "code",
   "execution_count": 6,
   "metadata": {
    "scrolled": true
   },
   "outputs": [
    {
     "data": {
      "text/plain": [
       "20198"
      ]
     },
     "execution_count": 6,
     "metadata": {},
     "output_type": "execute_result"
    }
   ],
   "source": [
    "ocenjevalci_ne_vege = recepti[recepti.dieta == '0'].stevilo_ocenjevalcev.sum()\n",
    "ocenjevalci_ne_vege"
   ]
  },
  {
   "cell_type": "markdown",
   "metadata": {},
   "source": [
    "Oseba, ki je le vegetarijansko hrano, ne bo pripravljala mesne hrane, medtem ko oseba, ki je tudi meso, bo občasno pripravila vegetarijansko jed. S tem lahko razložimo razliko v številu ocenjevalcev."
   ]
  },
  {
   "cell_type": "markdown",
   "metadata": {},
   "source": [
    "Receptom dodamo stolpec `zaokrozene_ocene`, da bo graf preglednejši..."
   ]
  },
  {
   "cell_type": "code",
   "execution_count": 7,
   "metadata": {},
   "outputs": [
    {
     "data": {
      "text/html": [
       "<div>\n",
       "<style scoped>\n",
       "    .dataframe tbody tr th:only-of-type {\n",
       "        vertical-align: middle;\n",
       "    }\n",
       "\n",
       "    .dataframe tbody tr th {\n",
       "        vertical-align: top;\n",
       "    }\n",
       "\n",
       "    .dataframe thead th {\n",
       "        text-align: right;\n",
       "    }\n",
       "</style>\n",
       "<table border=\"1\" class=\"dataframe\">\n",
       "  <thead>\n",
       "    <tr style=\"text-align: right;\">\n",
       "      <th></th>\n",
       "      <th>naslov</th>\n",
       "      <th>avtor</th>\n",
       "      <th>cas_priprave</th>\n",
       "      <th>cas_kuhanja</th>\n",
       "      <th>stevilo_ocenjevalcev</th>\n",
       "      <th>ocena</th>\n",
       "      <th>dieta</th>\n",
       "      <th>zvrst</th>\n",
       "      <th>zaokrozene_ocene</th>\n",
       "    </tr>\n",
       "  </thead>\n",
       "  <tbody>\n",
       "    <tr>\n",
       "      <th>0</th>\n",
       "      <td>Bacon chop with hispi cabbage, lovage and a p...</td>\n",
       "      <td>Angela Hartnett</td>\n",
       "      <td>0-30</td>\n",
       "      <td>30-60</td>\n",
       "      <td>0</td>\n",
       "      <td>0.00</td>\n",
       "      <td>0</td>\n",
       "      <td>Main course</td>\n",
       "      <td>0.0</td>\n",
       "    </tr>\n",
       "    <tr>\n",
       "      <th>1</th>\n",
       "      <td>Baked pasta shells stuffed with cheese, tomat...</td>\n",
       "      <td>Matt Tebbutt</td>\n",
       "      <td>0-30</td>\n",
       "      <td>30-60</td>\n",
       "      <td>1</td>\n",
       "      <td>5.00</td>\n",
       "      <td>Vegetarian</td>\n",
       "      <td>Main course</td>\n",
       "      <td>5.0</td>\n",
       "    </tr>\n",
       "    <tr>\n",
       "      <th>2</th>\n",
       "      <td>Pan-fried red mullet, baked pink fir potato, ...</td>\n",
       "      <td>Bryn Williams</td>\n",
       "      <td>0-30</td>\n",
       "      <td>30-60</td>\n",
       "      <td>0</td>\n",
       "      <td>0.00</td>\n",
       "      <td>0</td>\n",
       "      <td>Main course</td>\n",
       "      <td>0.0</td>\n",
       "    </tr>\n",
       "    <tr>\n",
       "      <th>3</th>\n",
       "      <td>Rum and orange doughnuts with chocolate sauce...</td>\n",
       "      <td>Matt Tebbutt</td>\n",
       "      <td>0-30</td>\n",
       "      <td>10-30</td>\n",
       "      <td>0</td>\n",
       "      <td>0.00</td>\n",
       "      <td>0</td>\n",
       "      <td>Desserts</td>\n",
       "      <td>0.0</td>\n",
       "    </tr>\n",
       "    <tr>\n",
       "      <th>4</th>\n",
       "      <td>Slow-cooked ox cheek with kale and mashed potato</td>\n",
       "      <td>Freddy Bird</td>\n",
       "      <td>30-60</td>\n",
       "      <td>00-120</td>\n",
       "      <td>5</td>\n",
       "      <td>5.00</td>\n",
       "      <td>0</td>\n",
       "      <td>Recipe</td>\n",
       "      <td>5.0</td>\n",
       "    </tr>\n",
       "    <tr>\n",
       "      <th>...</th>\n",
       "      <td>...</td>\n",
       "      <td>...</td>\n",
       "      <td>...</td>\n",
       "      <td>...</td>\n",
       "      <td>...</td>\n",
       "      <td>...</td>\n",
       "      <td>...</td>\n",
       "      <td>...</td>\n",
       "      <td>...</td>\n",
       "    </tr>\n",
       "    <tr>\n",
       "      <th>9600</th>\n",
       "      <td>Îles flottantes</td>\n",
       "      <td>Rachel Khoo</td>\n",
       "      <td>00-120</td>\n",
       "      <td>10-30</td>\n",
       "      <td>1</td>\n",
       "      <td>4.00</td>\n",
       "      <td>Vegetarian</td>\n",
       "      <td>Desserts</td>\n",
       "      <td>4.0</td>\n",
       "    </tr>\n",
       "    <tr>\n",
       "      <th>9601</th>\n",
       "      <td>‘Chocolate orange’ iced biscuits</td>\n",
       "      <td>Warwick Davis</td>\n",
       "      <td>0-30</td>\n",
       "      <td>10-30</td>\n",
       "      <td>1</td>\n",
       "      <td>5.00</td>\n",
       "      <td>Vegetarian</td>\n",
       "      <td>Cakes and baking</td>\n",
       "      <td>5.0</td>\n",
       "    </tr>\n",
       "    <tr>\n",
       "      <th>9602</th>\n",
       "      <td>‘Dirty’ veggie starter platter</td>\n",
       "      <td>Joe Florek</td>\n",
       "      <td>0-30</td>\n",
       "      <td>10-30</td>\n",
       "      <td>1</td>\n",
       "      <td>5.00</td>\n",
       "      <td>Vegetarian</td>\n",
       "      <td>Starters and nibbles</td>\n",
       "      <td>5.0</td>\n",
       "    </tr>\n",
       "    <tr>\n",
       "      <th>9603</th>\n",
       "      <td>‘I can’t believe you made that’ cake</td>\n",
       "      <td>Lorraine Pascale</td>\n",
       "      <td>30-60</td>\n",
       "      <td>30-60</td>\n",
       "      <td>4</td>\n",
       "      <td>4.75</td>\n",
       "      <td>Vegetarian</td>\n",
       "      <td>Cakes and baking</td>\n",
       "      <td>5.0</td>\n",
       "    </tr>\n",
       "    <tr>\n",
       "      <th>9604</th>\n",
       "      <td>‘Nduja and mozzarella pizza</td>\n",
       "      <td>James Martin</td>\n",
       "      <td>00-120</td>\n",
       "      <td>10-30</td>\n",
       "      <td>2</td>\n",
       "      <td>5.00</td>\n",
       "      <td>0</td>\n",
       "      <td>Main course</td>\n",
       "      <td>5.0</td>\n",
       "    </tr>\n",
       "  </tbody>\n",
       "</table>\n",
       "<p>9605 rows × 9 columns</p>\n",
       "</div>"
      ],
      "text/plain": [
       "                                                 naslov             avtor  \\\n",
       "0      Bacon chop with hispi cabbage, lovage and a p...   Angela Hartnett   \n",
       "1      Baked pasta shells stuffed with cheese, tomat...      Matt Tebbutt   \n",
       "2      Pan-fried red mullet, baked pink fir potato, ...     Bryn Williams   \n",
       "3      Rum and orange doughnuts with chocolate sauce...      Matt Tebbutt   \n",
       "4      Slow-cooked ox cheek with kale and mashed potato      Freddy Bird    \n",
       "...                                                 ...               ...   \n",
       "9600                                    Îles flottantes       Rachel Khoo   \n",
       "9601                   ‘Chocolate orange’ iced biscuits     Warwick Davis   \n",
       "9602                     ‘Dirty’ veggie starter platter        Joe Florek   \n",
       "9603              ‘I can’t believe you made that’ cake   Lorraine Pascale   \n",
       "9604                        ‘Nduja and mozzarella pizza      James Martin   \n",
       "\n",
       "     cas_priprave cas_kuhanja  stevilo_ocenjevalcev  ocena       dieta  \\\n",
       "0            0-30       30-60                     0   0.00           0   \n",
       "1            0-30       30-60                     1   5.00  Vegetarian   \n",
       "2            0-30       30-60                     0   0.00           0   \n",
       "3            0-30       10-30                     0   0.00           0   \n",
       "4           30-60      00-120                     5   5.00           0   \n",
       "...           ...         ...                   ...    ...         ...   \n",
       "9600       00-120       10-30                     1   4.00  Vegetarian   \n",
       "9601         0-30       10-30                     1   5.00  Vegetarian   \n",
       "9602         0-30       10-30                     1   5.00  Vegetarian   \n",
       "9603        30-60       30-60                     4   4.75  Vegetarian   \n",
       "9604       00-120       10-30                     2   5.00           0   \n",
       "\n",
       "                     zvrst  zaokrozene_ocene  \n",
       "0              Main course               0.0  \n",
       "1              Main course               5.0  \n",
       "2              Main course               0.0  \n",
       "3                 Desserts               0.0  \n",
       "4                   Recipe               5.0  \n",
       "...                    ...               ...  \n",
       "9600              Desserts               4.0  \n",
       "9601      Cakes and baking               5.0  \n",
       "9602  Starters and nibbles               5.0  \n",
       "9603      Cakes and baking               5.0  \n",
       "9604           Main course               5.0  \n",
       "\n",
       "[9605 rows x 9 columns]"
      ]
     },
     "execution_count": 7,
     "metadata": {},
     "output_type": "execute_result"
    }
   ],
   "source": [
    "zaokrozene_ocene = recepti.ocena.round()\n",
    "recepti['zaokrozene_ocene'] = zaokrozene_ocene\n",
    "recepti"
   ]
  },
  {
   "cell_type": "markdown",
   "metadata": {},
   "source": [
    "... in izločimo recepte, ki niso bili ocenjeni."
   ]
  },
  {
   "cell_type": "code",
   "execution_count": 8,
   "metadata": {},
   "outputs": [
    {
     "data": {
      "text/html": [
       "<div>\n",
       "<style scoped>\n",
       "    .dataframe tbody tr th:only-of-type {\n",
       "        vertical-align: middle;\n",
       "    }\n",
       "\n",
       "    .dataframe tbody tr th {\n",
       "        vertical-align: top;\n",
       "    }\n",
       "\n",
       "    .dataframe thead th {\n",
       "        text-align: right;\n",
       "    }\n",
       "</style>\n",
       "<table border=\"1\" class=\"dataframe\">\n",
       "  <thead>\n",
       "    <tr style=\"text-align: right;\">\n",
       "      <th></th>\n",
       "      <th>naslov</th>\n",
       "      <th>avtor</th>\n",
       "      <th>cas_priprave</th>\n",
       "      <th>cas_kuhanja</th>\n",
       "      <th>stevilo_ocenjevalcev</th>\n",
       "      <th>ocena</th>\n",
       "      <th>dieta</th>\n",
       "      <th>zvrst</th>\n",
       "      <th>zaokrozene_ocene</th>\n",
       "    </tr>\n",
       "  </thead>\n",
       "  <tbody>\n",
       "    <tr>\n",
       "      <th>1</th>\n",
       "      <td>Baked pasta shells stuffed with cheese, tomat...</td>\n",
       "      <td>Matt Tebbutt</td>\n",
       "      <td>0-30</td>\n",
       "      <td>30-60</td>\n",
       "      <td>1</td>\n",
       "      <td>5.00</td>\n",
       "      <td>Vegetarian</td>\n",
       "      <td>Main course</td>\n",
       "      <td>5.0</td>\n",
       "    </tr>\n",
       "    <tr>\n",
       "      <th>4</th>\n",
       "      <td>Slow-cooked ox cheek with kale and mashed potato</td>\n",
       "      <td>Freddy Bird</td>\n",
       "      <td>30-60</td>\n",
       "      <td>00-120</td>\n",
       "      <td>5</td>\n",
       "      <td>5.00</td>\n",
       "      <td>0</td>\n",
       "      <td>Recipe</td>\n",
       "      <td>5.0</td>\n",
       "    </tr>\n",
       "    <tr>\n",
       "      <th>6</th>\n",
       "      <td>Thai massaman dal</td>\n",
       "      <td>Lucy Parker</td>\n",
       "      <td>0-30</td>\n",
       "      <td>30-60</td>\n",
       "      <td>10</td>\n",
       "      <td>4.70</td>\n",
       "      <td>Vegetarian</td>\n",
       "      <td>Main course</td>\n",
       "      <td>5.0</td>\n",
       "    </tr>\n",
       "    <tr>\n",
       "      <th>7</th>\n",
       "      <td>Torta pasqualina (Giant green pie)</td>\n",
       "      <td>Donal Skehan</td>\n",
       "      <td>0-30</td>\n",
       "      <td>30-60</td>\n",
       "      <td>1</td>\n",
       "      <td>5.00</td>\n",
       "      <td>Vegetarian</td>\n",
       "      <td>Main course</td>\n",
       "      <td>5.0</td>\n",
       "    </tr>\n",
       "    <tr>\n",
       "      <th>8</th>\n",
       "      <td>'Butter' tofu curry</td>\n",
       "      <td>Sophie Whitbread</td>\n",
       "      <td>0-30</td>\n",
       "      <td>30-60</td>\n",
       "      <td>2</td>\n",
       "      <td>5.00</td>\n",
       "      <td>Vegetarian</td>\n",
       "      <td>Main course</td>\n",
       "      <td>5.0</td>\n",
       "    </tr>\n",
       "    <tr>\n",
       "      <th>...</th>\n",
       "      <td>...</td>\n",
       "      <td>...</td>\n",
       "      <td>...</td>\n",
       "      <td>...</td>\n",
       "      <td>...</td>\n",
       "      <td>...</td>\n",
       "      <td>...</td>\n",
       "      <td>...</td>\n",
       "      <td>...</td>\n",
       "    </tr>\n",
       "    <tr>\n",
       "      <th>9600</th>\n",
       "      <td>Îles flottantes</td>\n",
       "      <td>Rachel Khoo</td>\n",
       "      <td>00-120</td>\n",
       "      <td>10-30</td>\n",
       "      <td>1</td>\n",
       "      <td>4.00</td>\n",
       "      <td>Vegetarian</td>\n",
       "      <td>Desserts</td>\n",
       "      <td>4.0</td>\n",
       "    </tr>\n",
       "    <tr>\n",
       "      <th>9601</th>\n",
       "      <td>‘Chocolate orange’ iced biscuits</td>\n",
       "      <td>Warwick Davis</td>\n",
       "      <td>0-30</td>\n",
       "      <td>10-30</td>\n",
       "      <td>1</td>\n",
       "      <td>5.00</td>\n",
       "      <td>Vegetarian</td>\n",
       "      <td>Cakes and baking</td>\n",
       "      <td>5.0</td>\n",
       "    </tr>\n",
       "    <tr>\n",
       "      <th>9602</th>\n",
       "      <td>‘Dirty’ veggie starter platter</td>\n",
       "      <td>Joe Florek</td>\n",
       "      <td>0-30</td>\n",
       "      <td>10-30</td>\n",
       "      <td>1</td>\n",
       "      <td>5.00</td>\n",
       "      <td>Vegetarian</td>\n",
       "      <td>Starters and nibbles</td>\n",
       "      <td>5.0</td>\n",
       "    </tr>\n",
       "    <tr>\n",
       "      <th>9603</th>\n",
       "      <td>‘I can’t believe you made that’ cake</td>\n",
       "      <td>Lorraine Pascale</td>\n",
       "      <td>30-60</td>\n",
       "      <td>30-60</td>\n",
       "      <td>4</td>\n",
       "      <td>4.75</td>\n",
       "      <td>Vegetarian</td>\n",
       "      <td>Cakes and baking</td>\n",
       "      <td>5.0</td>\n",
       "    </tr>\n",
       "    <tr>\n",
       "      <th>9604</th>\n",
       "      <td>‘Nduja and mozzarella pizza</td>\n",
       "      <td>James Martin</td>\n",
       "      <td>00-120</td>\n",
       "      <td>10-30</td>\n",
       "      <td>2</td>\n",
       "      <td>5.00</td>\n",
       "      <td>0</td>\n",
       "      <td>Main course</td>\n",
       "      <td>5.0</td>\n",
       "    </tr>\n",
       "  </tbody>\n",
       "</table>\n",
       "<p>5746 rows × 9 columns</p>\n",
       "</div>"
      ],
      "text/plain": [
       "                                                 naslov             avtor  \\\n",
       "1      Baked pasta shells stuffed with cheese, tomat...      Matt Tebbutt   \n",
       "4      Slow-cooked ox cheek with kale and mashed potato      Freddy Bird    \n",
       "6                                    Thai massaman dal        Lucy Parker   \n",
       "7                    Torta pasqualina (Giant green pie)      Donal Skehan   \n",
       "8                                   'Butter' tofu curry  Sophie Whitbread   \n",
       "...                                                 ...               ...   \n",
       "9600                                    Îles flottantes       Rachel Khoo   \n",
       "9601                   ‘Chocolate orange’ iced biscuits     Warwick Davis   \n",
       "9602                     ‘Dirty’ veggie starter platter        Joe Florek   \n",
       "9603              ‘I can’t believe you made that’ cake   Lorraine Pascale   \n",
       "9604                        ‘Nduja and mozzarella pizza      James Martin   \n",
       "\n",
       "     cas_priprave cas_kuhanja  stevilo_ocenjevalcev  ocena       dieta  \\\n",
       "1            0-30       30-60                     1   5.00  Vegetarian   \n",
       "4           30-60      00-120                     5   5.00           0   \n",
       "6            0-30       30-60                    10   4.70  Vegetarian   \n",
       "7            0-30       30-60                     1   5.00  Vegetarian   \n",
       "8            0-30       30-60                     2   5.00  Vegetarian   \n",
       "...           ...         ...                   ...    ...         ...   \n",
       "9600       00-120       10-30                     1   4.00  Vegetarian   \n",
       "9601         0-30       10-30                     1   5.00  Vegetarian   \n",
       "9602         0-30       10-30                     1   5.00  Vegetarian   \n",
       "9603        30-60       30-60                     4   4.75  Vegetarian   \n",
       "9604       00-120       10-30                     2   5.00           0   \n",
       "\n",
       "                     zvrst  zaokrozene_ocene  \n",
       "1              Main course               5.0  \n",
       "4                   Recipe               5.0  \n",
       "6              Main course               5.0  \n",
       "7              Main course               5.0  \n",
       "8              Main course               5.0  \n",
       "...                    ...               ...  \n",
       "9600              Desserts               4.0  \n",
       "9601      Cakes and baking               5.0  \n",
       "9602  Starters and nibbles               5.0  \n",
       "9603      Cakes and baking               5.0  \n",
       "9604           Main course               5.0  \n",
       "\n",
       "[5746 rows x 9 columns]"
      ]
     },
     "execution_count": 8,
     "metadata": {},
     "output_type": "execute_result"
    }
   ],
   "source": [
    "najmanj_en_ocenjevalec = recepti[recepti.stevilo_ocenjevalcev > 0]\n",
    "najmanj_en_ocenjevalec"
   ]
  },
  {
   "cell_type": "markdown",
   "metadata": {},
   "source": [
    "*Graf zaokroženih ocen:* "
   ]
  },
  {
   "cell_type": "code",
   "execution_count": 9,
   "metadata": {},
   "outputs": [
    {
     "data": {
      "text/plain": [
       "<AxesSubplot:xlabel='zaokrozene_ocene'>"
      ]
     },
     "execution_count": 9,
     "metadata": {},
     "output_type": "execute_result"
    },
    {
     "data": {
      "image/png": "[encoded data removed]",
      "text/plain": [
       "<Figure size 432x288 with 1 Axes>"
      ]
     },
     "metadata": {
      "needs_background": "light"
     },
     "output_type": "display_data"
    }
   ],
   "source": [
    "ocene_v = najmanj_en_ocenjevalec[najmanj_en_ocenjevalec.dieta == 'Vegetarian'].groupby('zaokrozene_ocene').size()\n",
    "ocene_m = najmanj_en_ocenjevalec[najmanj_en_ocenjevalec.dieta == '0'].groupby('zaokrozene_ocene').size()\n",
    "pd.DataFrame({\n",
    "    'Vegetarian': ocene_v,\n",
    "    'Non-Vegetarian': ocene_m\n",
    "}).plot.bar()"
   ]
  },
  {
   "cell_type": "code",
   "execution_count": 10,
   "metadata": {},
   "outputs": [],
   "source": [
    "def izracunaj_povp_oceno(dieta):\n",
    "    d = recepti.dieta == dieta\n",
    "    o = recepti.ocena > 0.00\n",
    "    data = {'ocena': [], 'st': []}\n",
    "    for ocena in recepti[d & o].groupby('ocena'):\n",
    "        data['ocena'].append(ocena[0])\n",
    "    for st in recepti[d & o].groupby('ocena').size():\n",
    "        data['st'].append(st)\n",
    "    imenovalec = 0\n",
    "    stevec = 0\n",
    "    for i in range(len(recepti[d & o].groupby('ocena'))):\n",
    "        imenovalec += data['st'][i]\n",
    "        stevec += data['st'][i] * data['ocena'][i]\n",
    "    return round(stevec / imenovalec, 2)"
   ]
  },
  {
   "cell_type": "markdown",
   "metadata": {},
   "source": [
    "*Povprečna ocena vegetarijanskih receptov:*"
   ]
  },
  {
   "cell_type": "code",
   "execution_count": 11,
   "metadata": {},
   "outputs": [
    {
     "data": {
      "text/plain": [
       "4.43"
      ]
     },
     "execution_count": 11,
     "metadata": {},
     "output_type": "execute_result"
    }
   ],
   "source": [
    "izracunaj_povp_oceno('Vegetarian')"
   ]
  },
  {
   "cell_type": "markdown",
   "metadata": {},
   "source": [
    "*Povprečna ocena ne-vegetarijanskih receptov:*"
   ]
  },
  {
   "cell_type": "code",
   "execution_count": 12,
   "metadata": {},
   "outputs": [
    {
     "data": {
      "text/plain": [
       "4.52"
      ]
     },
     "execution_count": 12,
     "metadata": {},
     "output_type": "execute_result"
    }
   ],
   "source": [
    "izracunaj_povp_oceno('0')"
   ]
  },
  {
   "cell_type": "markdown",
   "metadata": {},
   "source": [
    "**Zaključek**  \n",
    "Vegetarijanskih receptov je manj, ocenilo jih je več oseb, iz česar bi lahko sklepali, da nižja ocena morda pomeni le bolj realno sliko. Druga razlaga za nižjo oceno je, da nekomu, ki je meso, vegetarijanski obrok morda ni tako teknil. S tem potrjujem svojo hipotezo."
   ]
  },
  {
   "cell_type": "markdown",
   "metadata": {},
   "source": [
    "### 2. Ali obstaja povezava med avtorjem in časom kuhanja njegovih receptov?\n",
    "##### (če ima kuhar vsaj 10 receptov)"
   ]
  },
  {
   "cell_type": "markdown",
   "metadata": {},
   "source": [
    "Rekli bomo, da ima avtor povezavo z dolžino kuhanja svojih receptov, če bo vsaj polovica njegovih receptov imela enak čas."
   ]
  },
  {
   "cell_type": "code",
   "execution_count": 13,
   "metadata": {},
   "outputs": [],
   "source": [
    "data = {'avtor': [], 'stevilo_receptov' : [], 'bool': []}\n",
    "for avtor in recepti.groupby('avtor'):\n",
    "    data['avtor'].append(avtor[0])\n",
    "    data['stevilo_receptov'].append(recepti[recepti.avtor == avtor[0]].groupby('avtor').size().sum())\n",
    "avtor_mask = recepti.groupby('avtor').size() >= 10\n",
    "for bol in avtor_mask:\n",
    "    data['bool'].append(bol)\n",
    "avtorji = pd.DataFrame(data, columns = ['avtor', 'stevilo_receptov', 'bool'])\n",
    "avtorji_z_veliko_recepti = avtorji[avtorji['bool'] == True].drop(columns='bool')"
   ]
  },
  {
   "cell_type": "markdown",
   "metadata": {},
   "source": [
    "Seznam vseh avtorjev, ki imajo več kot 10 receptov:"
   ]
  },
  {
   "cell_type": "code",
   "execution_count": 14,
   "metadata": {},
   "outputs": [
    {
     "data": {
      "text/html": [
       "<div>\n",
       "<style scoped>\n",
       "    .dataframe tbody tr th:only-of-type {\n",
       "        vertical-align: middle;\n",
       "    }\n",
       "\n",
       "    .dataframe tbody tr th {\n",
       "        vertical-align: top;\n",
       "    }\n",
       "\n",
       "    .dataframe thead th {\n",
       "        text-align: right;\n",
       "    }\n",
       "</style>\n",
       "<table border=\"1\" class=\"dataframe\">\n",
       "  <thead>\n",
       "    <tr style=\"text-align: right;\">\n",
       "      <th></th>\n",
       "      <th>avtor</th>\n",
       "      <th>stevilo_receptov</th>\n",
       "    </tr>\n",
       "  </thead>\n",
       "  <tbody>\n",
       "    <tr>\n",
       "      <th>3</th>\n",
       "      <td>Adam Byatt</td>\n",
       "      <td>11</td>\n",
       "    </tr>\n",
       "    <tr>\n",
       "      <th>11</th>\n",
       "      <td>Ainsley Harriott</td>\n",
       "      <td>15</td>\n",
       "    </tr>\n",
       "    <tr>\n",
       "      <th>16</th>\n",
       "      <td>Aldo Zilli</td>\n",
       "      <td>12</td>\n",
       "    </tr>\n",
       "    <tr>\n",
       "      <th>17</th>\n",
       "      <td>Alex Mackay</td>\n",
       "      <td>13</td>\n",
       "    </tr>\n",
       "    <tr>\n",
       "      <th>23</th>\n",
       "      <td>Allegra McEvedy</td>\n",
       "      <td>30</td>\n",
       "    </tr>\n",
       "    <tr>\n",
       "      <th>...</th>\n",
       "      <td>...</td>\n",
       "      <td>...</td>\n",
       "    </tr>\n",
       "    <tr>\n",
       "      <th>651</th>\n",
       "      <td>Valentine Warner</td>\n",
       "      <td>45</td>\n",
       "    </tr>\n",
       "    <tr>\n",
       "      <th>655</th>\n",
       "      <td>Vivek Singh</td>\n",
       "      <td>28</td>\n",
       "    </tr>\n",
       "    <tr>\n",
       "      <th>659</th>\n",
       "      <td>Wayne Collins</td>\n",
       "      <td>19</td>\n",
       "    </tr>\n",
       "    <tr>\n",
       "      <th>662</th>\n",
       "      <td>William Leigh</td>\n",
       "      <td>10</td>\n",
       "    </tr>\n",
       "    <tr>\n",
       "      <th>668</th>\n",
       "      <td>Yotam Ottolenghi</td>\n",
       "      <td>14</td>\n",
       "    </tr>\n",
       "  </tbody>\n",
       "</table>\n",
       "<p>145 rows × 2 columns</p>\n",
       "</div>"
      ],
      "text/plain": [
       "                avtor  stevilo_receptov\n",
       "3          Adam Byatt                11\n",
       "11   Ainsley Harriott                15\n",
       "16         Aldo Zilli                12\n",
       "17        Alex Mackay                13\n",
       "23    Allegra McEvedy                30\n",
       "..                ...               ...\n",
       "651  Valentine Warner                45\n",
       "655       Vivek Singh                28\n",
       "659     Wayne Collins                19\n",
       "662     William Leigh                10\n",
       "668  Yotam Ottolenghi                14\n",
       "\n",
       "[145 rows x 2 columns]"
      ]
     },
     "execution_count": 14,
     "metadata": {},
     "output_type": "execute_result"
    }
   ],
   "source": [
    "avtorji_z_veliko_recepti"
   ]
  },
  {
   "cell_type": "markdown",
   "metadata": {},
   "source": [
    "Definiramo funkcijo, ki vrne `DataFrame`, v katerem avtorje vežemo na resničnostno vrednost, ki pove ali ima vsaj `1/n` avtorjevih receptov enak čas kuhanja.  "
   ]
  },
  {
   "cell_type": "code",
   "execution_count": 32,
   "metadata": {},
   "outputs": [],
   "source": [
    "def povezava_za(n):\n",
    "    data = {'avtor' : [], 'bool' : [], 'najpogostejsi_cas' : []}\n",
    "    for avtor in avtorji_z_veliko_recepti.avtor:\n",
    "        data['avtor'].append(avtor)\n",
    "        slovar_casov = {}\n",
    "        for cas in recepti[recepti.avtor == avtor].cas_kuhanja:\n",
    "            if cas in slovar_casov:\n",
    "                slovar_casov[cas] += 1\n",
    "            else:\n",
    "                slovar_casov[cas] = 1\n",
    "        najpogostejsi_cas = max(slovar_casov, key=slovar_casov.get)\n",
    "        data['najpogostejsi_cas'].append(najpogostejsi_cas)\n",
    "        stevilo_receptov = avtorji_z_veliko_recepti[avtorji_z_veliko_recepti.avtor == avtor].stevilo_receptov.sum()\n",
    "        if math.ceil(stevilo_receptov / n) <= slovar_casov[najpogostejsi_cas]:\n",
    "            data['bool'].append(True)\n",
    "        else:\n",
    "            data['bool'].append(False)\n",
    "    return pd.DataFrame(data, columns = ['avtor', 'bool', 'najpogostejsi_cas'])"
   ]
  },
  {
   "cell_type": "code",
   "execution_count": 34,
   "metadata": {},
   "outputs": [
    {
     "data": {
      "text/plain": [
       "bool\n",
       "False    92\n",
       "True     53\n",
       "dtype: int64"
      ]
     },
     "execution_count": 34,
     "metadata": {},
     "output_type": "execute_result"
    }
   ],
   "source": [
    "st_receptov_mask = povezava_za(2)\n",
    "st_receptov_mask.groupby('bool').size()"
   ]
  },
  {
   "cell_type": "markdown",
   "metadata": {},
   "source": [
    "Kot lahko vidimo, ima okoli 60% avtorjev manj kot polovico svojih receptov z enakim časom kuhanja. Kakorkoli že, če namesto polovice receptov gledamo tretjino, smo 'slabe' avtorje spravili pod 10%."
   ]
  },
  {
   "cell_type": "code",
   "execution_count": 35,
   "metadata": {},
   "outputs": [
    {
     "data": {
      "text/plain": [
       "bool\n",
       "False     14\n",
       "True     131\n",
       "dtype: int64"
      ]
     },
     "execution_count": 35,
     "metadata": {},
     "output_type": "execute_result"
    }
   ],
   "source": [
    "st_receptov_mask = povezava_za(3)\n",
    "st_receptov_mask.groupby('bool').size()"
   ]
  },
  {
   "cell_type": "markdown",
   "metadata": {},
   "source": [
    "*Graf časov kuhanja:* "
   ]
  },
  {
   "cell_type": "code",
   "execution_count": 18,
   "metadata": {},
   "outputs": [
    {
     "data": {
      "text/plain": [
       "<AxesSubplot:xlabel='najpogostejsi_cas'>"
      ]
     },
     "execution_count": 18,
     "metadata": {},
     "output_type": "execute_result"
    },
    {
     "data": {
      "image/png": "[encoded data removed]",
      "text/plain": [
       "<Figure size 432x288 with 1 Axes>"
      ]
     },
     "metadata": {
      "needs_background": "light"
     },
     "output_type": "display_data"
    }
   ],
   "source": [
    "st_receptov_mask.groupby('najpogostejsi_cas').size().plot.bar()"
   ]
  },
  {
   "cell_type": "markdown",
   "metadata": {},
   "source": [
    "**Zaključek**  \n",
    "Pri receptih se avtorji ne ozirajo na čas kuhanja. Iz zgornjega grafa je razvidno, da je večini kuharjev ljubši čas kuhanja med 10 in 30 minut. Kar je seveda smiselno, saj imajo v današnjem času ljudje raje hitro in doma pripravljeno hrano."
   ]
  },
  {
   "cell_type": "markdown",
   "metadata": {},
   "source": [
    "### 3. Najpogosteje uporabljene sestavine so sol, poper, olje in čebula."
   ]
  },
  {
   "cell_type": "markdown",
   "metadata": {},
   "source": [
    "Te sestavine so najpogosteje uporabljene:"
   ]
  },
  {
   "cell_type": "code",
   "execution_count": 28,
   "metadata": {},
   "outputs": [
    {
     "data": {
      "text/plain": [
       "<AxesSubplot:xlabel='sestavina'>"
      ]
     },
     "execution_count": 28,
     "metadata": {},
     "output_type": "execute_result"
    },
    {
     "data": {
      "image/png": "[encoded data removed]",
      "text/plain": [
       "<Figure size 432x288 with 1 Axes>"
      ]
     },
     "metadata": {
      "needs_background": "light"
     },
     "output_type": "display_data"
    }
   ],
   "source": [
    "ocenjevalci_in_sestavine = pd.merge(recepti, sestavine, left_on='naslov', right_on='recept')\n",
    "urejene_sestavine = ocenjevalci_in_sestavine.groupby('sestavina').count().sort_values(['naslov'], ascending=False).naslov\n",
    "urejene_sestavine.head(19).plot.bar()"
   ]
  },
  {
   "cell_type": "markdown",
   "metadata": {},
   "source": [
    "Kot zanimivost, si oglejmo še 15 najbolj uporabljenih sestavin glede na vrsto jedi:"
   ]
  },
  {
   "cell_type": "code",
   "execution_count": 30,
   "metadata": {
    "scrolled": true
   },
   "outputs": [],
   "source": [
    "def urejene_sestavine_po_zvrsti(zvrst):\n",
    "    z = recepti[recepti.zvrst == zvrst]\n",
    "    urejena_z = pd.merge(z, sestavine, left_on='naslov', right_on='recept').groupby('sestavina').count().sort_values(['naslov'], ascending=False).naslov\n",
    "    podatki = urejena_z.head(15)\n",
    "    return podatki"
   ]
  },
  {
   "cell_type": "code",
   "execution_count": 31,
   "metadata": {},
   "outputs": [
    {
     "data": {
      "image/png": "[encoded data removed]",
      "text/plain": [
       "<Figure size 432x288 with 1 Axes>"
      ]
     },
     "metadata": {
      "needs_background": "light"
     },
     "output_type": "display_data"
    },
    {
     "data": {
      "image/png": "[encoded data removed]",
      "text/plain": [
       "<Figure size 432x288 with 1 Axes>"
      ]
     },
     "metadata": {
      "needs_background": "light"
     },
     "output_type": "display_data"
    },
    {
     "data": {
      "image/png": "[encoded data removed]",
      "text/plain": [
       "<Figure size 432x288 with 1 Axes>"
      ]
     },
     "metadata": {
      "needs_background": "light"
     },
     "output_type": "display_data"
    },
    {
     "data": {
      "image/png": "[encoded data removed]",
      "text/plain": [
       "<Figure size 432x288 with 1 Axes>"
      ]
     },
     "metadata": {
      "needs_background": "light"
     },
     "output_type": "display_data"
    },
    {
     "data": {
      "image/png": "[encoded data removed]",
      "text/plain": [
       "<Figure size 432x288 with 1 Axes>"
      ]
     },
     "metadata": {
      "needs_background": "light"
     },
     "output_type": "display_data"
    },
    {
     "data": {
      "image/png": "[encoded data removed]",
      "text/plain": [
       "<Figure size 432x288 with 1 Axes>"
      ]
     },
     "metadata": {
      "needs_background": "light"
     },
     "output_type": "display_data"
    },
    {
     "data": {
      "image/png": "[encoded data removed]",
      "text/plain": [
       "<Figure size 432x288 with 1 Axes>"
      ]
     },
     "metadata": {
      "needs_background": "light"
     },
     "output_type": "display_data"
    },
    {
     "data": {
      "image/png": "[encoded data removed]",
      "text/plain": [
       "<Figure size 432x288 with 1 Axes>"
      ]
     },
     "metadata": {
      "needs_background": "light"
     },
     "output_type": "display_data"
    },
    {
     "data": {
      "image/png": "[encoded data removed]",
      "text/plain": [
       "<Figure size 432x288 with 1 Axes>"
      ]
     },
     "metadata": {
      "needs_background": "light"
     },
     "output_type": "display_data"
    },
    {
     "data": {
      "image/png": "[encoded data removed]",
      "text/plain": [
       "<Figure size 432x288 with 1 Axes>"
      ]
     },
     "metadata": {
      "needs_background": "light"
     },
     "output_type": "display_data"
    }
   ],
   "source": [
    "data = {}\n",
    "for podatek_o_zvrsti in recepti.groupby('zvrst'):\n",
    "    zvrst = podatek_o_zvrsti[0]\n",
    "    graf = urejene_sestavine_po_zvrsti(zvrst)\n",
    "    data[zvrst] = graf\n",
    "    pd.DataFrame(data).plot.bar()\n",
    "    data = {}"
   ]
  },
  {
   "cell_type": "markdown",
   "metadata": {},
   "source": [
    "**Zaključek**  \n",
    "Najpogosteje uporabljene sestavine so poper, maslo in olje. Hipoteza se razlikuje od realnosti, ker so recepti zbrani iz britanske spletne strani. Njihova kulinarika pogosteje posega po maslu in česnu, kot po soli in čebuli, kar je značilnejše za naše kraje."
   ]
  }
 ],
 "metadata": {
  "kernelspec": {
   "display_name": "Python 3",
   "language": "python",
   "name": "python3"
  },
  "language_info": {
   "codemirror_mode": {
    "name": "ipython",
    "version": 3
   },
   "file_extension": ".py",
   "mimetype": "text/x-python",
   "name": "python",
   "nbconvert_exporter": "python",
   "pygments_lexer": "ipython3",
   "version": "3.6.7"
  }
 },
 "nbformat": 4,
 "nbformat_minor": 4
}
